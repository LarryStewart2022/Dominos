{
 "cells": [
  {
   "cell_type": "code",
   "execution_count": null,
   "metadata": {},
   "outputs": [],
   "source": [
    "import cv2\n",
    "import numpy as np\n",
    "from rembg import remove\n",
    "from PIL import Image\n",
    "import io"
   ]
  },
  {
   "cell_type": "code",
   "execution_count": null,
   "metadata": {},
   "outputs": [],
   "source": [
    "def detect_pips(uploaded_image):\n",
    "    if uploaded_image is None:\n",
    "        return None\n",
    "    image = cv2.resize(uploaded_image, (512, 512))\n",
    "    gray_image = cv2.cvtColor(image, cv2.COLOR_BGR2GRAY)\n",
    "    \n",
    "    # Setup SimpleBlobDetector parameters.\n",
    "    params = cv2.SimpleBlobDetector_Params()\n",
    "\n",
    "    # Change thresholds\n",
    "    params.minThreshold = 10\n",
    "    params.maxThreshold = 200\n",
    "\n",
    "    # Filter by Area.\n",
    "    params.filterByArea = True\n",
    "    params.minArea = 50\n",
    "\n",
    "    # Create a detector with the parameters\n",
    "    detector = cv2.SimpleBlobDetector_create(params)\n",
    "    \n",
    "    # Detect blobs\n",
    "    keypoints = detector.detect(gray_image)\n",
    "    \n",
    "    # Number of pips is the number of keypoints\n",
    "    pip_count = len(keypoints)\n",
    "    return pip_count"
   ]
  },
  {
   "cell_type": "code",
   "execution_count": null,
   "metadata": {},
   "outputs": [],
   "source": [
    "# Load an image from file\n",
    "\n",
    "uploaded_image = cv2.imread('28.jpg')\n",
    "\n",
    "pip_count = detect_pips(uploaded_image)\n",
    "print(f'Total pip count is: {pip_count}')"
   ]
  },
  {
   "cell_type": "code",
   "execution_count": null,
   "metadata": {},
   "outputs": [],
   "source": [
    "# Load an image from file\n",
    "\n",
    "image_np   = cv2.imread('86.jpg')\n",
    "\n",
    "input_image = Image.fromarray(cv2.cvtColor(image_np, cv2.COLOR_BGR2RGB))\n",
    "\n",
    "# Convert the image to bytes\n",
    "input_bytes = io.BytesIO()\n",
    "input_image.save(input_bytes, format='PNG')\n",
    "\n",
    "# Remove the background\n",
    "output_bytes = remove(input_bytes.getvalue())\n",
    "\n",
    "# Convert the output bytes to an image\n",
    "output_image = Image.open(io.BytesIO(output_bytes))\n",
    "\n",
    "\n",
    "output_image.save('output_image.png')\n",
    "output_image.show()\n",
    "\n",
    "\n"
   ]
  },
  {
   "cell_type": "code",
   "execution_count": null,
   "metadata": {},
   "outputs": [],
   "source": [
    "pip_count = detect_pips(\"output_image.png\" )\n",
    "print(f'Total pip count is: {pip_count}')"
   ]
  },
  {
   "cell_type": "markdown",
   "metadata": {},
   "source": []
  },
  {
   "cell_type": "markdown",
   "metadata": {},
   "source": []
  },
  {
   "cell_type": "code",
   "execution_count": 8,
   "metadata": {},
   "outputs": [],
   "source": [
    "from rembg import remove\n",
    "from PIL import Image\n",
    "import cv2\n",
    "import numpy as np\n",
    "import io"
   ]
  },
  {
   "cell_type": "code",
   "execution_count": 9,
   "metadata": {},
   "outputs": [],
   "source": [
    "def detect_pips(uploaded_image):\n",
    "    if uploaded_image is None:\n",
    "        return None\n",
    "    \n",
    "    # Convert the numpy array image to bytes\n",
    "    is_success, im_buf_arr = cv2.imencode(\".png\", uploaded_image)\n",
    "    byte_im = im_buf_arr.tobytes()\n",
    "\n",
    "    # Remove the background\n",
    "    output_bytes = remove(byte_im)\n",
    "\n",
    "    # Convert the output bytes to an image\n",
    "    output_image = Image.open(io.BytesIO(output_bytes))\n",
    "\n",
    "    # Convert the PIL Image back to a numpy array\n",
    "    image = np.array(output_image)\n",
    "\n",
    "    # Resize the image\n",
    "    image = cv2.resize(image, (512, 512))\n",
    "\n",
    "    # Convert the image to grayscale\n",
    "    gray_image = cv2.cvtColor(image, cv2.COLOR_BGR2GRAY)\n",
    "    \n",
    "    # Setup SimpleBlobDetector parameters\n",
    "    params = cv2.SimpleBlobDetector_Params()\n",
    "\n",
    "    # Change thresholds\n",
    "    params.minThreshold = 10\n",
    "    params.maxThreshold = 200\n",
    "\n",
    "    # Filter by Area\n",
    "    params.filterByArea = True\n",
    "    params.minArea = 50\n",
    "\n",
    "    # Create a detector with the parameters\n",
    "    detector = cv2.SimpleBlobDetector_create(params)\n",
    "    \n",
    "    # Detect blobs\n",
    "    keypoints = detector.detect(gray_image)\n",
    "    \n",
    "    # Number of pips is the number of keypoints\n",
    "    pip_count = len(keypoints)\n",
    "    return pip_count"
   ]
  },
  {
   "cell_type": "code",
   "execution_count": 11,
   "metadata": {},
   "outputs": [
    {
     "name": "stdout",
     "output_type": "stream",
     "text": [
      "Total pip count is: 46\n"
     ]
    }
   ],
   "source": [
    "# Load an image from file\n",
    "uploaded_image = cv2.imread('46.jpg')\n",
    "\n",
    "# Call the function\n",
    "pip_count = detect_pips(uploaded_image)\n",
    "\n",
    "# Output the result\n",
    "print(f'Total pip count is: {pip_count}')"
   ]
  },
  {
   "cell_type": "code",
   "execution_count": null,
   "metadata": {},
   "outputs": [],
   "source": []
  },
  {
   "cell_type": "code",
   "execution_count": null,
   "metadata": {},
   "outputs": [],
   "source": []
  }
 ],
 "metadata": {
  "kernelspec": {
   "display_name": ".venv",
   "language": "python",
   "name": "python3"
  },
  "language_info": {
   "codemirror_mode": {
    "name": "ipython",
    "version": 3
   },
   "file_extension": ".py",
   "mimetype": "text/x-python",
   "name": "python",
   "nbconvert_exporter": "python",
   "pygments_lexer": "ipython3",
   "version": "3.10.9"
  }
 },
 "nbformat": 4,
 "nbformat_minor": 2
}
